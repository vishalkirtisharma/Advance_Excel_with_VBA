{
 "cells": [
  {
   "cell_type": "markdown",
   "metadata": {},
   "source": [
    "# Import Require Libary"
   ]
  },
  {
   "cell_type": "code",
   "execution_count": 1,
   "metadata": {},
   "outputs": [],
   "source": [
    "import pandas as pd\n",
    "import numpy as np\n",
    "import os"
   ]
  },
  {
   "cell_type": "markdown",
   "metadata": {},
   "source": [
    "#### ** Create Some Modification on each sheet and create function **"
   ]
  },
  {
   "cell_type": "code",
   "execution_count": 2,
   "metadata": {},
   "outputs": [],
   "source": [
    "# Change B2B Values\n",
    "def B2B(df):\n",
    "    df.drop([0,1,2],inplace=True)\n",
    "    df.loc[4][ df.loc[4].isnull()] =  df.loc[3]\n",
    "    df.drop(3,inplace= True)\n",
    "    df.columns = df.iloc[0].values\n",
    "    df.drop(4,inplace= True)\n",
    "    return df\n",
    "    \n",
    "# Change B2BA Values\n",
    "def B2BA(df):\n",
    "    df.iloc[5][df.iloc[5].isnull()] = df.iloc[4]\n",
    "    df.drop([0,1,2,3,4],inplace= True)\n",
    "    df.columns = df.iloc[0]\n",
    "    df.drop(5,inplace=True)\n",
    "    return df\n",
    "\n",
    "def B2BCDNR(df):\n",
    "    df.loc[4][df.loc[4].isnull()] = df.loc[3]\n",
    "    df.drop([0,1,2,3],inplace=True)\n",
    "    df.columns = df.loc[4]\n",
    "    df.drop(4,inplace=True)\n",
    "    return df\n",
    "\n",
    "def IMPG(df):\n",
    "    df.loc[4][df.loc[4].isnull()]= df.loc[3]\n",
    "    df.drop([0,1,2,3],inplace=True)\n",
    "    df.columns= df.iloc[0]\n",
    "    df.drop([4],inplace=True)\n",
    "    return df\n",
    "\n",
    "def IMPGSEZ(df):\n",
    "    df.loc[4][df.loc[4].isnull()] = df.loc[3]\n",
    "    df.columns= df.iloc[4]\n",
    "    df.drop([0,1,2,3,4],inplace=True)\n",
    "    return df\n",
    "\n",
    "def CDNRA(df):\n",
    "    df.loc[5] [df.loc[5].isnull()]= df.loc[4]\n",
    "    df.columns= df.loc[5]\n",
    "    df.drop([0,1,2,3,4,5],inplace= True)\n",
    "    return df"
   ]
  },
  {
   "cell_type": "code",
   "execution_count": 3,
   "metadata": {},
   "outputs": [],
   "source": [
    "def MergingB2B_B2BA(B2Bs,B2BAs):\n",
    "       # For Merging of B2BA and B2B\n",
    "       B2BAs.columns.values[4]= 'New ' + B2BAs.columns.values[0]\n",
    "       B2BAs.columns.values[6]= 'New ' + B2BAs.columns.values[1]\n",
    "       ds = pd.merge(B2Bs,B2BAs,how='outer',on=['GSTIN of supplier','Invoice number','Invoice Date'])\n",
    "\n",
    "       # For Select Invoice NumBer\n",
    "       Values = [ds['New Invoice number'] ,ds['Invoice number'] ]\n",
    "       cod =[ds['New Invoice number'].notnull(),ds['New Invoice number'].isnull()]\n",
    "       ds['Invoice number'] =np.select(cod,Values)\n",
    "       # ds['Invoice number'] = ds.apply(lambda x: x['New Invoice number'] if ['New Invoice number'].notnull() else x['Invoice number'],axis=1)\n",
    "\n",
    "\n",
    "       # For Select Invoice Date\n",
    "       Values = [ds['New Invoice Date'] ,ds['Invoice Date'] ]\n",
    "       cod =[ds['New Invoice number'].notnull(),ds['New Invoice number'].isnull()]\n",
    "       ds['Invoice Date'] =np.select(cod,Values)\n",
    "\n",
    "\n",
    "       # For All Adjustment\n",
    "       for x in ['Trade/Legal name','Invoice Value(₹)','Place of supply','Supply Attract Reverse Charge','Rate(%)','Taxable Value (₹)','Integrated Tax(₹)','Central Tax(₹)','State/UT Tax(₹)','Cess(₹)','ITC Availability','Source']:\n",
    "              Values = [ds[x+'_y'] ,ds[x+'_x'] ]\n",
    "              cod =[ds['New Invoice number'].notnull(),ds['New Invoice number'].isnull()]\n",
    "              ds[x] =np.select(cod,Values)\n",
    "              \n",
    "\n",
    "       # Removing All other Columns\n",
    "       ds.drop(ds.columns.difference(['GSTIN of supplier', 'Invoice number', 'Invoice Date',\n",
    "              'Trade/Legal name', 'Invoice Value(₹)', 'Place of supply',\n",
    "              'Supply Attract Reverse Charge', 'Rate(%)', 'Taxable Value (₹)',\n",
    "              'Integrated Tax(₹)', 'Central Tax(₹)', 'State/UT Tax(₹)', 'Cess(₹)',\n",
    "              'ITC Availability','Source']) ,axis=1, inplace=True)\n",
    "       \n",
    "       B2Bs= ds\n",
    "       return B2Bs\n",
    "\n",
    "       # ds"
   ]
  },
  {
   "cell_type": "code",
   "execution_count": 4,
   "metadata": {},
   "outputs": [],
   "source": [
    "path = '2B-Data\\\\'\n",
    "ds= []\n",
    "L1= ['B2B','B2BA','B2B-CDNR','B2B-CDNRA','IMPG','IMPGSEZ']\n",
    "df= {'B2B':[],'B2BA':[],'B2B-CDNR':[],'B2B-CDNRA':[],'IMPG':[],'IMPGSEZ':[]}\n",
    "s=set()\n",
    "for x in L1:\n",
    "    for a,i in enumerate( os.listdir(path)):\n",
    "            # Avoid error if worksheet not avaialabe\n",
    "            if x in pd.ExcelFile(path+i).sheet_names:\n",
    "                ds = pd.read_excel(path+i,x)\n",
    "                # Add Source Columns\n",
    "                if x== L1[0]:\n",
    "                    B2B(ds)\n",
    "                    ds['Source'] =x\n",
    "                    df[x].append(ds)\n",
    "                elif x== L1[1]:\n",
    "                    B2BA(ds)\n",
    "                    ds['Source'] ='B2BA'\n",
    "                    df[x].append(ds)\n",
    "                elif x== L1[2]:\n",
    "                    B2BCDNR(ds)\n",
    "                    ds['Source'] ='CDNR'\n",
    "                    df[x].append(ds)\n",
    "                elif x== L1[3]:\n",
    "                    CDNRA(ds)\n",
    "                    ds['Source'] ='CDNRA'\n",
    "                    df[x].append(ds)\n",
    "                elif x== L1[4]:\n",
    "                    IMPG(ds)\n",
    "                    ds['Source'] ='IMPG'\n",
    "                    df[x].append(ds)\n",
    "                elif x== L1[5]:\n",
    "                    IMPGSEZ(ds)\n",
    "                    ds['Source'] ='IMPGSEZ'\n",
    "                    df[x].append(ds)\n",
    "                ds= []\n",
    "    df[x]= pd.concat(df[x])\n",
    "    "
   ]
  },
  {
   "cell_type": "code",
   "execution_count": 5,
   "metadata": {},
   "outputs": [],
   "source": [
    "def MergingCDNRA_CDNRA(CDNRs,CDNRAs):\n",
    "       # For Merging of B2BA and B2B\n",
    "       CDNRAs.columns.values[0]= 'New ' + CDNRAs.columns.values[5]\n",
    "       CDNRAs.columns.values[1]= 'New ' + CDNRAs.columns.values[8]\n",
    "       CDNRAs.columns.values[2]= 'New ' + CDNRAs.columns.values[6]\n",
    "       ds = pd.merge(CDNRs,CDNRAs,how='outer',on=['GSTIN of supplier','Note number','Note date','Note type'])\n",
    "\n",
    "       # For Select Invoice NumBer\n",
    "       Values = [ds['New Note number'] ,ds['Note number'] ]\n",
    "       cod =[ds['New Note number'].notnull(),ds['New Note number'].isnull()]\n",
    "       ds['Invoice number'] =np.select(cod,Values)\n",
    "       # # ds['Invoice number'] = ds.apply(lambda x: x['New Invoice number'] if ['New Invoice number'].notnull() else x['Invoice number'],axis=1)\n",
    "\n",
    "\n",
    "       # For Select Invoice Date\n",
    "       Values = [ds['New Note type'] ,ds['Note type'] ]\n",
    "       cod =[ds['New Note type'].notnull(),ds['New Note type'].isnull()]\n",
    "       ds['Invoice Date'] =np.select(cod,Values)\n",
    "\n",
    "       # For Select Invoice Date\n",
    "       Values = [ds['New Note date'] ,ds['Note date'] ]\n",
    "       cod =[ds['New Note date'].notnull(),ds['New Note date'].isnull()]\n",
    "       ds['Invoice Type'] =np.select(cod,Values)\n",
    "\n",
    "\n",
    "       # For All Adjustment\n",
    "       for x in ['Trade/Legal name','Place of supply','Supply Attract Reverse Charge',\n",
    "       'Rate(%)','Taxable Value (₹)','Integrated Tax(₹)','Central Tax(₹)','State/UT Tax(₹)',\n",
    "       'Cess(₹)','Source','ITC Availability']:\n",
    "              Values = [ds[x+'_y'] ,ds[x+'_x'] ]\n",
    "              cod =[ds['New Note number'].notnull(),ds['New Note number'].isnull()]\n",
    "              ds[x] =np.select(cod,Values)\n",
    "              \n",
    "\n",
    "       # Removing All other Columns\n",
    "       ds.drop(ds.columns.difference(['Trade/Legal name','Place of supply',\n",
    "       'Supply Attract Reverse Charge','Rate(%)','Taxable Value (₹)','Integrated Tax(₹)',\n",
    "       'Central Tax(₹)','State/UT Tax(₹)','Cess(₹)','Source','ITC Availability',\n",
    "       'New Note date','Invoice Date','Invoice number']) ,axis=1, inplace=True)\n",
    "       \n",
    "       CDNRs= ds\n",
    "       return CDNRs"
   ]
  },
  {
   "cell_type": "code",
   "execution_count": 6,
   "metadata": {},
   "outputs": [],
   "source": [
    "df[L1[0]] =MergingB2B_B2BA(df[L1[0]],df[L1[1]])\n",
    "df[L1[2]] =MergingCDNRA_CDNRA(df[L1[2]],df[L1[3]])"
   ]
  },
  {
   "cell_type": "markdown",
   "metadata": {},
   "source": []
  },
  {
   "cell_type": "code",
   "execution_count": 20,
   "metadata": {},
   "outputs": [
    {
     "data": {
      "text/plain": [
       "Index(['New Note date', 'Invoice number', 'Invoice Date', 'Trade/Legal name',\n",
       "       'Place of supply', 'Supply Attract Reverse Charge', 'Rate(%)',\n",
       "       'Taxable Value (₹)', 'Integrated Tax(₹)', 'Central Tax(₹)',\n",
       "       'State/UT Tax(₹)', 'Cess(₹)', 'Source', 'ITC Availability'],\n",
       "      dtype='object')"
      ]
     },
     "execution_count": 20,
     "metadata": {},
     "output_type": "execute_result"
    }
   ],
   "source": [
    "df[L1[2]].columns"
   ]
  },
  {
   "cell_type": "markdown",
   "metadata": {},
   "source": []
  }
 ],
 "metadata": {
  "interpreter": {
   "hash": "89915f1ff7001b7176d1c71fc03b797cb1a860d1117bbf4b377a89dc81661beb"
  },
  "kernelspec": {
   "display_name": "Python 3.9.7 ('base')",
   "language": "python",
   "name": "python3"
  },
  "language_info": {
   "codemirror_mode": {
    "name": "ipython",
    "version": 3
   },
   "file_extension": ".py",
   "mimetype": "text/x-python",
   "name": "python",
   "nbconvert_exporter": "python",
   "pygments_lexer": "ipython3",
   "version": "3.9.7"
  },
  "orig_nbformat": 4
 },
 "nbformat": 4,
 "nbformat_minor": 2
}
